{
 "cells": [
  {
   "cell_type": "code",
   "execution_count": 1,
   "metadata": {},
   "outputs": [],
   "source": [
    "from sportsbetpy import *"
   ]
  },
  {
   "cell_type": "code",
   "execution_count": 2,
   "metadata": {},
   "outputs": [],
   "source": [
    "# load backend\n",
    "fake_backend = FakeBackend([\"basketball_nba\", \"americanfootball_nfl\"], seed=57)"
   ]
  },
  {
   "cell_type": "code",
   "execution_count": 3,
   "metadata": {},
   "outputs": [
    {
     "name": "stdout",
     "output_type": "stream",
     "text": [
      "Head 2 Head:\n",
      "timestamp: 2025-05-26 22:00\n",
      "commence_time: 2025-05-26 22:00\n",
      "backend: fake_seed57\n",
      "Indiana Pacers (-332) vs Boston Celtics (+332)\n",
      "\n"
     ]
    }
   ],
   "source": [
    "some_h2h_bet = PlannedBet(fake_backend, \"nba\", \"h2h\", []).select('random')\n",
    "print(some_h2h_bet)"
   ]
  },
  {
   "cell_type": "code",
   "execution_count": 4,
   "metadata": {},
   "outputs": [
    {
     "name": "stdout",
     "output_type": "stream",
     "text": [
      "500.0 on Indiana Pacers to win at -332 odds\n",
      "payout on hit: 650.6024096385543\n",
      "profit on hit: 150.60240963855426\n",
      "implied probability of hit: 0.7685185185185185\n",
      "\n"
     ]
    }
   ],
   "source": [
    "home_team_probably_wins = some_h2h_bet.bet(\"home\", 500)\n",
    "print(home_team_probably_wins)"
   ]
  },
  {
   "cell_type": "markdown",
   "metadata": {},
   "source": [
    "full names required for now because the way the code is set up it doesn't handle SF Giants vs NY Giants well"
   ]
  },
  {
   "cell_type": "code",
   "execution_count": 5,
   "metadata": {},
   "outputs": [
    {
     "name": "stdout",
     "output_type": "stream",
     "text": [
      "Options:\n",
      "\n",
      "Head 2 Head:\n",
      "timestamp: 2025-05-26 22:00\n",
      "commence_time: 2025-05-26 22:00\n",
      "backend: fake_seed57\n",
      "Cleveland Cavaliers (-122) vs Sacramento Kings (+122)\n",
      "\n",
      "Spreads:\n",
      "timestamp: 2025-05-26 22:00\n",
      "commence_time: 2025-05-26 22:00\n",
      "backend: fake_seed57\n",
      "Cleveland Cavaliers -0.5 (-112)\n",
      "vs\n",
      "Sacramento Kings +0.5 (-110)\n",
      "\n",
      "Totals:\n",
      "timestamp: 2025-05-26 22:00\n",
      "commence_time: 2025-05-26 22:00\n",
      "backend: fake_seed57\n",
      "Cleveland Cavaliers 119 (-108)\n",
      "vs\n",
      "Sacramento Kings 118 (-107)\n",
      "\n",
      "Head 2 Head:\n",
      "timestamp: 2025-05-26 22:00\n",
      "commence_time: 2025-05-26 22:00\n",
      "backend: fake_seed57\n",
      "Los Angeles Clippers (-2453) vs Los Angeles Lakers (+2453)\n",
      "\n",
      "Spreads:\n",
      "timestamp: 2025-05-26 22:00\n",
      "commence_time: 2025-05-26 22:00\n",
      "backend: fake_seed57\n",
      "Los Angeles Clippers -15.5 (-109)\n",
      "vs\n",
      "Los Angeles Lakers +15.5 (-108)\n",
      "\n",
      "Totals:\n",
      "timestamp: 2025-05-26 22:00\n",
      "commence_time: 2025-05-26 22:00\n",
      "backend: fake_seed57\n",
      "Los Angeles Clippers 120 (-107)\n",
      "vs\n",
      "Los Angeles Lakers 104 (-110)\n",
      "\n",
      "player_assists:\n",
      "timestamp: 2025-05-26 22:00\n",
      "commence_time: 2025-05-26 22:00\n",
      "backend: fake_seed57\n",
      "Lebron James, 6.5 (over: -140, under: +190)\n",
      "\n",
      "Head 2 Head:\n",
      "timestamp: 2025-05-26 22:00\n",
      "commence_time: 2025-05-26 22:00\n",
      "backend: fake_seed57\n",
      "Golden State Warriors (+122) vs Miami Heat (-122)\n",
      "\n",
      "Spreads:\n",
      "timestamp: 2025-05-26 22:00\n",
      "commence_time: 2025-05-26 22:00\n",
      "backend: fake_seed57\n",
      "Golden State Warriors +1.5 (-104)\n",
      "vs\n",
      "Miami Heat -1.5 (-109)\n",
      "\n",
      "Totals:\n",
      "timestamp: 2025-05-26 22:00\n",
      "commence_time: 2025-05-26 22:00\n",
      "backend: fake_seed57\n",
      "Golden State Warriors 130 (-110)\n",
      "vs\n",
      "Miami Heat 131 (-114)\n",
      "\n",
      "Head 2 Head:\n",
      "timestamp: 2025-05-26 22:00\n",
      "commence_time: 2025-05-26 22:00\n",
      "backend: fake_seed57\n",
      "San Francisco 49ers (-332) vs Los Angeles Rams (+332)\n",
      "\n",
      "Spreads:\n",
      "timestamp: 2025-05-26 22:00\n",
      "commence_time: 2025-05-26 22:00\n",
      "backend: fake_seed57\n",
      "San Francisco 49ers -5.5 (-112)\n",
      "vs\n",
      "Los Angeles Rams +5.5 (-104)\n",
      "\n",
      "Totals:\n",
      "timestamp: 2025-05-26 22:00\n",
      "commence_time: 2025-05-26 22:00\n",
      "backend: fake_seed57\n",
      "San Francisco 49ers 113 (-107)\n",
      "vs\n",
      "Los Angeles Rams 107 (-111)\n",
      "\n",
      "Head 2 Head:\n",
      "timestamp: 2025-05-26 22:00\n",
      "commence_time: 2025-05-26 22:00\n",
      "backend: fake_seed57\n",
      "Atlanta Falcons (+1644) vs Los Angeles Chargers (-1644)\n",
      "\n",
      "Spreads:\n",
      "timestamp: 2025-05-26 22:00\n",
      "commence_time: 2025-05-26 22:00\n",
      "backend: fake_seed57\n",
      "Atlanta Falcons +14.5 (-111)\n",
      "vs\n",
      "Los Angeles Chargers -14.5 (-116)\n",
      "\n",
      "Totals:\n",
      "timestamp: 2025-05-26 22:00\n",
      "commence_time: 2025-05-26 22:00\n",
      "backend: fake_seed57\n",
      "Atlanta Falcons 102 (-112)\n",
      "vs\n",
      "Los Angeles Chargers 116 (-110)\n",
      "\n",
      "\n"
     ]
    }
   ],
   "source": [
    "california_basketball_fan = PlannedBet(fake_backend, \"NBA\", \"any\", \n",
    "    [\"Golden State Warriors\", \"Los Angeles Lakers\", \"Los Angeles Clippers\", \"Sacramento Kings\"], 'any')\n",
    "california_football_fan = PlannedBet(fake_backend, \"NFL\", \"any\", \n",
    "    [\"San Francisco 49ers\", \"Los Angeles Chargers\", \"Los Angeles Rams\"], 'any')\n",
    "california_sports_fan = california_basketball_fan + california_football_fan\n",
    "print(california_sports_fan)"
   ]
  },
  {
   "cell_type": "code",
   "execution_count": 6,
   "metadata": {},
   "outputs": [
    {
     "name": "stdout",
     "output_type": "stream",
     "text": [
      "1000.0 on San Francisco 49ers to win or lose by at most 5.5 points at -112 odds\n",
      "payout on hit: 1892.857142857143\n",
      "profit on hit: 892.8571428571429\n",
      "implied probability of hit: 0.5283018867924528\n",
      "\n",
      "50.0 on Sacramento Kings to win at +122 odds\n",
      "payout on hit: 110.99999999999999\n",
      "profit on hit: 60.999999999999986\n",
      "implied probability of hit: 0.45045045045045046\n",
      "\n"
     ]
    }
   ],
   "source": [
    "bigBet = california_sports_fan.select('random').bet(\"home\", 1000)\n",
    "print(bigBet)\n",
    "smallBet = california_sports_fan.select('soonest').bet(\"away\", 50)\n",
    "print(smallBet)"
   ]
  },
  {
   "cell_type": "code",
   "execution_count": 7,
   "metadata": {},
   "outputs": [
    {
     "name": "stdout",
     "output_type": "stream",
     "text": [
      "Options:\n",
      "\n",
      "Spreads:\n",
      "timestamp: 2025-05-26 22:00\n",
      "commence_time: 2025-05-26 22:00\n",
      "backend: fake_seed13\n",
      "New York Knicks -25.5 (-111)\n",
      "vs\n",
      "Charlotte Hornets +25.5 (-108)\n",
      "\n",
      "\n"
     ]
    }
   ],
   "source": [
    "another_fake_backend = FakeBackend(seed=13)\n",
    "knicks_fan_who_loves_spreads = PlannedBet(another_fake_backend, \"NBA\", 'spreads', [\"New York Knicks\"], 'all')\n",
    "print(knicks_fan_who_loves_spreads)"
   ]
  },
  {
   "cell_type": "code",
   "execution_count": 8,
   "metadata": {},
   "outputs": [
    {
     "name": "stdout",
     "output_type": "stream",
     "text": [
      "360.0 on New York Knicks to win or lose by at most 25.5 points at -111 odds\n",
      "payout on hit: 684.3243243243244\n",
      "profit on hit: 324.3243243243244\n",
      "implied probability of hit: 0.5260663507109005\n",
      "\n"
     ]
    }
   ],
   "source": [
    "knicks_will_definitely_cover = knicks_fan_who_loves_spreads.select('random').bet(\"Knicks\", 360)\n",
    "print(knicks_will_definitely_cover)"
   ]
  },
  {
   "cell_type": "code",
   "execution_count": 9,
   "metadata": {},
   "outputs": [
    {
     "name": "stdout",
     "output_type": "stream",
     "text": [
      "460.0 on New York Knicks to win or lose by at most 25.5 points at -111 odds\n",
      "payout on hit: 874.4144144144144\n",
      "profit on hit: 414.4144144144144\n",
      "implied probability of hit: 0.5260663507109005\n",
      "\n"
     ]
    }
   ],
   "source": [
    "# more money\n",
    "knicks_will_definitely_cover += 100\n",
    "print(knicks_will_definitely_cover)"
   ]
  },
  {
   "cell_type": "code",
   "execution_count": 10,
   "metadata": {},
   "outputs": [
    {
     "name": "stdout",
     "output_type": "stream",
     "text": [
      "Options:\n",
      "\n",
      "player_assists:\n",
      "timestamp: 2025-05-26 22:00\n",
      "commence_time: 2025-05-26 22:00\n",
      "backend: fake_seed13\n",
      "Lebron James, 6.5 (over: -140, under: +190)\n",
      "\n",
      "\n"
     ]
    }
   ],
   "source": [
    "lebron_event = PlannedBet(another_fake_backend, \"NBA\", \"player_assists\", [\"Lebron James\"], \"all\")\n",
    "print(lebron_event)"
   ]
  },
  {
   "cell_type": "code",
   "execution_count": 11,
   "metadata": {},
   "outputs": [
    {
     "name": "stdout",
     "output_type": "stream",
     "text": [
      "Options:\n",
      "\n",
      "player_assists:\n",
      "timestamp: 2025-05-26 22:00\n",
      "commence_time: 2025-05-26 22:00\n",
      "backend: fake_seed13\n",
      "Lebron James, 6.5 (over: -140, under: +190)\n",
      "\n",
      "\n",
      "250.0 on Lebron James to get over 6.5 player_assists at -140 odds\n",
      "payout on hit: 428.57142857142856\n",
      "profit on hit: 178.57142857142856\n",
      "implied probability of hit: 0.5833333333333334\n",
      "\n"
     ]
    }
   ],
   "source": [
    "# bit of a less convenient way to do it\n",
    "lebron_event = PlannedBet(another_fake_backend, \"NBA\", None, [\"Lebron James\", \"Bronny James\"], \"any\")\n",
    "print(lebron_event)\n",
    "lebron_bet = lebron_event.select('random').bet(\"250\", \"over\")\n",
    "print(lebron_bet)"
   ]
  },
  {
   "cell_type": "code",
   "execution_count": 12,
   "metadata": {},
   "outputs": [
    {
     "name": "stdout",
     "output_type": "stream",
     "text": [
      "5-leg parlay\n",
      "total wager: 2260.0\n",
      "total odds: 1681\n",
      "payout on hit: 3957.44539548154\n",
      "profit on hit: 1697.44539548154\n",
      "implied probability of hit: 0.05612299533131748\n",
      "\n",
      "Leg 1\n",
      "500.0 on Indiana Pacers to win at -332 odds\n",
      "payout on hit: 650.6024096385543\n",
      "profit on hit: 150.60240963855426\n",
      "implied probability of hit: 0.7685185185185185\n",
      "\n",
      "Leg 2\n",
      "1000.0 on San Francisco 49ers to win or lose by at most 5.5 points at -112 odds\n",
      "payout on hit: 1892.857142857143\n",
      "profit on hit: 892.8571428571429\n",
      "implied probability of hit: 0.5283018867924528\n",
      "\n",
      "Leg 3\n",
      "50.0 on Sacramento Kings to win at +122 odds\n",
      "payout on hit: 110.99999999999999\n",
      "profit on hit: 60.999999999999986\n",
      "implied probability of hit: 0.45045045045045046\n",
      "\n",
      "Leg 4\n",
      "460.0 on New York Knicks to win or lose by at most 25.5 points at -111 odds\n",
      "payout on hit: 874.4144144144144\n",
      "profit on hit: 414.4144144144144\n",
      "implied probability of hit: 0.5260663507109005\n",
      "\n",
      "Leg 5\n",
      "250.0 on Lebron James to get over 6.5 player_assists at -140 odds\n",
      "payout on hit: 428.57142857142856\n",
      "profit on hit: 178.57142857142856\n",
      "implied probability of hit: 0.5833333333333334\n",
      "\n",
      "\n"
     ]
    }
   ],
   "source": [
    "myParlay = Parlay([home_team_probably_wins, bigBet, smallBet, knicks_will_definitely_cover, lebron_bet])\n",
    "print(myParlay)"
   ]
  },
  {
   "cell_type": "code",
   "execution_count": 13,
   "metadata": {},
   "outputs": [
    {
     "name": "stdout",
     "output_type": "stream",
     "text": [
      "player_assists:\n",
      "timestamp: 2025-05-26 22:00\n",
      "commence_time: 2025-05-26 22:00\n",
      "backend: \n",
      "Stephen Curry, 6 (over: -115, under: -120)\n",
      "\n"
     ]
    }
   ],
   "source": [
    "#lets create our own fixtures\n",
    "\n",
    "fake_h2h = Head2Head(\"49ers\", \"Warriors\", +170, -220)\n",
    "fake_spreads = Spreads(\"49ers\", \"Warriors\", -112, +120, 4.5, -4.5)\n",
    "fake_totals = Totals(\"49ers\", \"Warriors\", -130, -150, 24, 105)\n",
    "fake_event = OverUnderEvent(\"player_assists\", 6, \"Stephen Curry\", -115, -120)\n",
    "fake_event.bet(200, \"under\")\n",
    "print(fake_event)\n"
   ]
  },
  {
   "cell_type": "code",
   "execution_count": 14,
   "metadata": {},
   "outputs": [
    {
     "name": "stdout",
     "output_type": "stream",
     "text": [
      "Game: San Francisco 49ers vs Golden State Warriors\n",
      "\n",
      "Head 2 Head:\n",
      "timestamp: 2025-05-26 22:00\n",
      "commence_time: 2025-05-26 22:00\n",
      "backend: \n",
      "49ers (+170) vs Warriors (-220)\n",
      "\n",
      "Spreads:\n",
      "timestamp: 2025-05-26 22:00\n",
      "commence_time: 2025-05-26 22:00\n",
      "backend: \n",
      "49ers +4.5 (-112)\n",
      "vs\n",
      "Warriors -4.5 (+120)\n",
      "\n",
      "Totals:\n",
      "timestamp: 2025-05-26 22:00\n",
      "commence_time: 2025-05-26 22:00\n",
      "backend: \n",
      "49ers 24 (-130)\n",
      "vs\n",
      "Warriors 105 (-150)\n",
      "\n",
      "player_assists:\n",
      "timestamp: 2025-05-26 22:00\n",
      "commence_time: 2025-05-26 22:00\n",
      "backend: \n",
      "Stephen Curry, 6 (over: -115, under: -120)\n",
      "\n",
      "\n"
     ]
    }
   ],
   "source": [
    "niners_vs_warriors_fake_game = Game(\"San Francisco 49ers\", \"Golden State Warriors\", [fake_h2h, fake_spreads, fake_totals, fake_event])\n",
    "print(niners_vs_warriors_fake_game)"
   ]
  },
  {
   "cell_type": "code",
   "execution_count": 15,
   "metadata": {},
   "outputs": [
    {
     "name": "stdout",
     "output_type": "stream",
     "text": [
      "[]\n"
     ]
    }
   ],
   "source": [
    "print(fake_backend.findGames(niners_vs_warriors_fake_game, num_teams_to_match = 2))"
   ]
  },
  {
   "cell_type": "code",
   "execution_count": 16,
   "metadata": {},
   "outputs": [
    {
     "name": "stdout",
     "output_type": "stream",
     "text": [
      "Game: Golden State Warriors vs Miami Heat\n",
      "\n",
      "Head 2 Head:\n",
      "timestamp: 2025-05-26 22:00\n",
      "commence_time: 2025-05-26 22:00\n",
      "backend: fake_seed57\n",
      "Golden State Warriors (+122) vs Miami Heat (-122)\n",
      "\n",
      "Spreads:\n",
      "timestamp: 2025-05-26 22:00\n",
      "commence_time: 2025-05-26 22:00\n",
      "backend: fake_seed57\n",
      "Golden State Warriors +1.5 (-104)\n",
      "vs\n",
      "Miami Heat -1.5 (-109)\n",
      "\n",
      "Totals:\n",
      "timestamp: 2025-05-26 22:00\n",
      "commence_time: 2025-05-26 22:00\n",
      "backend: fake_seed57\n",
      "Golden State Warriors 130 (-110)\n",
      "vs\n",
      "Miami Heat 131 (-114)\n",
      "\n",
      "\n",
      "Game: San Francisco 49ers vs Los Angeles Rams\n",
      "\n",
      "Head 2 Head:\n",
      "timestamp: 2025-05-26 22:00\n",
      "commence_time: 2025-05-26 22:00\n",
      "backend: fake_seed57\n",
      "San Francisco 49ers (-332) vs Los Angeles Rams (+332)\n",
      "\n",
      "Spreads:\n",
      "timestamp: 2025-05-26 22:00\n",
      "commence_time: 2025-05-26 22:00\n",
      "backend: fake_seed57\n",
      "San Francisco 49ers -5.5 (-112)\n",
      "vs\n",
      "Los Angeles Rams +5.5 (-104)\n",
      "\n",
      "Totals:\n",
      "timestamp: 2025-05-26 22:00\n",
      "commence_time: 2025-05-26 22:00\n",
      "backend: fake_seed57\n",
      "San Francisco 49ers 113 (-107)\n",
      "vs\n",
      "Los Angeles Rams 107 (-111)\n",
      "\n",
      "\n"
     ]
    }
   ],
   "source": [
    "games = fake_backend.findGames(niners_vs_warriors_fake_game, num_teams_to_match = 1)\n",
    "for game in games:\n",
    "    print(game)"
   ]
  },
  {
   "cell_type": "code",
   "execution_count": 17,
   "metadata": {},
   "outputs": [
    {
     "name": "stdout",
     "output_type": "stream",
     "text": [
      "60.0 on Golden State Warriors to win at +122 odds\n",
      "payout on hit: 133.2\n",
      "profit on hit: 73.19999999999999\n",
      "implied probability of hit: 0.45045045045045046\n",
      "\n",
      "60.0 on Golden State Warriors to win by more than 1.5 points at -104 odds\n",
      "payout on hit: 117.6923076923077\n",
      "profit on hit: 57.69230769230769\n",
      "implied probability of hit: 0.5098039215686274\n",
      "\n",
      "60.0 on Golden State Warriors to score over 130 points at -110 odds\n",
      "payout on hit: 114.54545454545455\n",
      "profit on hit: 54.54545454545455\n",
      "implied probability of hit: 0.5238095238095238\n",
      "\n",
      "60.0 on San Francisco 49ers to win at -332 odds\n",
      "payout on hit: 78.07228915662651\n",
      "profit on hit: 18.07228915662651\n",
      "implied probability of hit: 0.7685185185185185\n",
      "\n",
      "60.0 on San Francisco 49ers to win or lose by at most 5.5 points at -112 odds\n",
      "payout on hit: 113.57142857142857\n",
      "profit on hit: 53.57142857142857\n",
      "implied probability of hit: 0.5283018867924528\n",
      "\n",
      "60.0 on San Francisco 49ers to score over 113 points at -107 odds\n",
      "payout on hit: 116.07476635514018\n",
      "profit on hit: 56.074766355140184\n",
      "implied probability of hit: 0.5169082125603864\n",
      "\n"
     ]
    }
   ],
   "source": [
    "# want to bet on all non-event fixtures for all of the games\n",
    "for game in games:\n",
    "    for fixture in game:\n",
    "        if not isinstance(fixture, Event):\n",
    "            print(fixture.bet('home', 60))"
   ]
  },
  {
   "cell_type": "code",
   "execution_count": 19,
   "metadata": {},
   "outputs": [
    {
     "name": "stdout",
     "output_type": "stream",
     "text": [
      "60.0 on Golden State Warriors to win at +122 odds\n",
      "payout on hit: 133.2\n",
      "profit on hit: 73.19999999999999\n",
      "implied probability of hit: 0.45045045045045046\n",
      "\n",
      "60.0 on Golden State Warriors to win by more than 1.5 points at -104 odds\n",
      "payout on hit: 117.6923076923077\n",
      "profit on hit: 57.69230769230769\n",
      "implied probability of hit: 0.5098039215686274\n",
      "\n",
      "60.0 on Golden State Warriors to score over 130 points at -110 odds\n",
      "payout on hit: 114.54545454545455\n",
      "profit on hit: 54.54545454545455\n",
      "implied probability of hit: 0.5238095238095238\n",
      "\n",
      "60.0 on San Francisco 49ers to win at -332 odds\n",
      "payout on hit: 78.07228915662651\n",
      "profit on hit: 18.07228915662651\n",
      "implied probability of hit: 0.7685185185185185\n",
      "\n",
      "60.0 on San Francisco 49ers to win or lose by at most 5.5 points at -112 odds\n",
      "payout on hit: 113.57142857142857\n",
      "profit on hit: 53.57142857142857\n",
      "implied probability of hit: 0.5283018867924528\n",
      "\n",
      "60.0 on San Francisco 49ers to score over 113 points at -107 odds\n",
      "payout on hit: 116.07476635514018\n",
      "profit on hit: 56.074766355140184\n",
      "implied probability of hit: 0.5169082125603864\n",
      "\n"
     ]
    }
   ],
   "source": [
    "games = fake_backend.findGames(niners_vs_warriors_fake_game, num_teams_to_match = 1)\n",
    "for game in games:\n",
    "    for bet in BetOnHome(60).apply(game):\n",
    "        print(bet)"
   ]
  },
  {
   "cell_type": "code",
   "execution_count": 20,
   "metadata": {},
   "outputs": [
    {
     "name": "stdout",
     "output_type": "stream",
     "text": [
      "60.0 on Golden State Warriors to win at +122 odds\n",
      "payout on hit: 133.2\n",
      "profit on hit: 73.19999999999999\n",
      "implied probability of hit: 0.45045045045045046\n",
      "\n",
      "60.0 on Golden State Warriors to win by more than 1.5 points at -104 odds\n",
      "payout on hit: 117.6923076923077\n",
      "profit on hit: 57.69230769230769\n",
      "implied probability of hit: 0.5098039215686274\n",
      "\n",
      "60.0 on Golden State Warriors to score over 130 points at -110 odds\n",
      "payout on hit: 114.54545454545455\n",
      "profit on hit: 54.54545454545455\n",
      "implied probability of hit: 0.5238095238095238\n",
      "\n"
     ]
    }
   ],
   "source": [
    "games = fake_backend.findGames(niners_vs_warriors_fake_game, num_teams_to_match = 1)\n",
    "for game in games:\n",
    "    for bet in BetOnTeamIfHome(\"Golden State Warriors\", 60).apply(game):\n",
    "        print(bet)"
   ]
  }
 ],
 "metadata": {
  "kernelspec": {
   "display_name": "Python 3",
   "language": "python",
   "name": "python3"
  },
  "language_info": {
   "codemirror_mode": {
    "name": "ipython",
    "version": 3
   },
   "file_extension": ".py",
   "mimetype": "text/x-python",
   "name": "python",
   "nbconvert_exporter": "python",
   "pygments_lexer": "ipython3",
   "version": "3.12.4"
  }
 },
 "nbformat": 4,
 "nbformat_minor": 2
}
