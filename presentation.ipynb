{
 "cells": [
  {
   "cell_type": "code",
   "execution_count": 1,
   "metadata": {},
   "outputs": [],
   "source": [
    "from sportsbetpy import *"
   ]
  },
  {
   "cell_type": "code",
   "execution_count": 2,
   "metadata": {},
   "outputs": [
    {
     "name": "stdout",
     "output_type": "stream",
     "text": [
      "{'DraftKings': 'draftkings', 'LowVig.ag': 'lowvig', 'BetOnline.ag': 'betonlineag', 'BetMGM': 'betmgm', 'FanDuel': 'fanduel', 'BetRivers': 'betrivers', 'Fanatics': 'fanatics', 'BetUS': 'betus', 'Caesars': 'williamhill_us', 'MyBookie.ag': 'mybookieag', 'Bovada': 'bovada'}\n"
     ]
    }
   ],
   "source": [
    "print(SPORTSBOOKS)"
   ]
  },
  {
   "cell_type": "markdown",
   "metadata": {},
   "source": [
    "# Preloaded Backends"
   ]
  },
  {
   "cell_type": "code",
   "execution_count": 3,
   "metadata": {},
   "outputs": [
    {
     "name": "stdout",
     "output_type": "stream",
     "text": [
      "Options:\n",
      "\n",
      "Totals:\n",
      "timestamp: 2025-05-27 11:55\n",
      "commence_time: 2025-09-21 20:05\n",
      "backend: DraftKings\n",
      "Los Angeles Chargers vs Denver Broncos\n",
      "Over 44.5 at -110\n",
      "Under 44.5 at -110\n",
      "\n",
      "\n",
      "291\n"
     ]
    }
   ],
   "source": [
    "draftkings = SportsBook('draftkings')\n",
    "print(PlannedBet(draftkings, 'NFL', 'totals', ['Los Angeles Chargers', 'Denver Broncos'], 'all'))\n",
    "print(len(draftkings.fixtures))"
   ]
  },
  {
   "cell_type": "markdown",
   "metadata": {},
   "source": [
    "# Using API Key"
   ]
  },
  {
   "cell_type": "code",
   "execution_count": 4,
   "metadata": {},
   "outputs": [],
   "source": [
    "import os\n",
    "from getpass import getpass\n",
    "\n",
    "os.environ[\"API_KEY\"] = getpass(\"Enter your The Odds API key: \")\n",
    "# ddba85b051b0fadb843f89eeb0721c59"
   ]
  },
  {
   "cell_type": "markdown",
   "metadata": {},
   "source": [
    "Load sportsbook directly with our own API Key."
   ]
  },
  {
   "cell_type": "code",
   "execution_count": 5,
   "metadata": {},
   "outputs": [
    {
     "name": "stdout",
     "output_type": "stream",
     "text": [
      "Options:\n",
      "\n",
      "Totals:\n",
      "timestamp: 2025-05-28 22:05\n",
      "commence_time: 2025-05-28 22:36\n",
      "backend: FanDuel\n",
      "Baltimore Orioles vs St. Louis Cardinals\n",
      "Over 7.5 at -124\n",
      "Under 7.5 at +102\n",
      "\n",
      "\n",
      "39\n"
     ]
    }
   ],
   "source": [
    "fanduel = SportsBook('FanDuel', 'TheOddsAPI') \n",
    "print(PlannedBet(fanduel, 'MLB', 'totals', ['Baltimore Orioles', 'St. Louis Cardinals'], 'all'))\n",
    "print(len(fanduel.fixtures))"
   ]
  },
  {
   "cell_type": "markdown",
   "metadata": {},
   "source": [
    "Alternatively, obtain the backends first before getting the Sportbook."
   ]
  },
  {
   "cell_type": "code",
   "execution_count": 6,
   "metadata": {},
   "outputs": [],
   "source": [
    "backends = TheOdds()\n",
    "bovada = SportsBook('Bovada', backends)"
   ]
  },
  {
   "cell_type": "code",
   "execution_count": 7,
   "metadata": {},
   "outputs": [
    {
     "name": "stdout",
     "output_type": "stream",
     "text": [
      "Options:\n",
      "\n",
      "Head 2 Head:\n",
      "timestamp: 2025-05-28 22:05\n",
      "commence_time: 2025-05-30 00:05\n",
      "backend: Bovada\n",
      "New York Knicks (-180) vs Indiana Pacers (+155)\n",
      "\n",
      "Spreads:\n",
      "timestamp: 2025-05-28 22:05\n",
      "commence_time: 2025-05-30 00:05\n",
      "backend: Bovada\n",
      "New York Knicks -4.5 (-105)\n",
      "vs\n",
      "Indiana Pacers +4.5 (-115)\n",
      "\n",
      "Totals:\n",
      "timestamp: 2025-05-28 22:05\n",
      "commence_time: 2025-05-30 00:05\n",
      "backend: Bovada\n",
      "New York Knicks vs Indiana Pacers\n",
      "Over 223.0 at -110\n",
      "Under 223.0 at -110\n",
      "\n",
      "\n"
     ]
    }
   ],
   "source": [
    "east_coast_teams = ['New York Knicks', 'Boston Celtics', 'Brooklyn Nets', 'Philadelphia 76ers']\n",
    "east_coast_bet = PlannedBet(bovada, 'NBA', 'any', east_coast_teams, 'any')\n",
    "print(east_coast_bet)"
   ]
  },
  {
   "cell_type": "code",
   "execution_count": 8,
   "metadata": {},
   "outputs": [
    {
     "name": "stdout",
     "output_type": "stream",
     "text": [
      "900.0 on New York Knicks to win or lose by at most 4.5 points at -105 odds\n",
      "payout on hit: 1757.142857142857\n",
      "profit on hit: 857.1428571428571\n",
      "implied probability of hit: 0.5121951219512195\n",
      "\n"
     ]
    }
   ],
   "source": [
    "spreads_bet = east_coast_bet.select('index', 1)\n",
    "print(spreads_bet.bet('home', 900))"
   ]
  },
  {
   "cell_type": "code",
   "execution_count": 9,
   "metadata": {},
   "outputs": [
    {
     "data": {
      "text/plain": [
       "[Game(home_team_name='New York Knicks', away_team_name='Indiana Pacers', fixtures=[Head2Head(timestamp=datetime.datetime(2025, 5, 28, 22, 5, 37, tzinfo=datetime.timezone.utc), commence_time=datetime.datetime(2025, 5, 30, 0, 5, tzinfo=datetime.timezone.utc), backend_name='Bovada', home_team_name='New York Knicks', away_team_name='Indiana Pacers', home_team_price=-180, away_team_price=155), Spreads(timestamp=datetime.datetime(2025, 5, 28, 22, 5, 37, tzinfo=datetime.timezone.utc), commence_time=datetime.datetime(2025, 5, 30, 0, 5, tzinfo=datetime.timezone.utc), backend_name='Bovada', home_team_name='New York Knicks', away_team_name='Indiana Pacers', home_team_price=-105, away_team_price=-115, home_team_point=-4.5, away_team_point=4.5), Totals(timestamp=datetime.datetime(2025, 5, 28, 22, 5, 37, tzinfo=datetime.timezone.utc), commence_time=datetime.datetime(2025, 5, 30, 0, 5, tzinfo=datetime.timezone.utc), backend_name='Bovada', home_team_name='New York Knicks', away_team_name='Indiana Pacers', over_price=-110, under_price=-110, over_point=223.0, under_point=223.0)], commence_time=datetime.datetime(2025, 5, 30, 0, 5, tzinfo=datetime.timezone.utc))]"
      ]
     },
     "execution_count": 9,
     "metadata": {},
     "output_type": "execute_result"
    }
   ],
   "source": [
    "eastern_conference_finals = Game(\"New York Knicks\", \"Indiana Pacers\", [])\n",
    "bovada.findGames(eastern_conference_finals, num_teams_to_match=2)"
   ]
  },
  {
   "cell_type": "markdown",
   "metadata": {},
   "source": [
    "# Find best bets across multiple sportsbooks."
   ]
  },
  {
   "cell_type": "code",
   "execution_count": 10,
   "metadata": {},
   "outputs": [
    {
     "data": {
      "text/plain": [
       "[H2hBet(backend_name='DraftKings', odds=-120, wager=100.0, team='Los Angeles Chargers'),\n",
       " SpreadsBet(backend_name='BetUS', odds=-115, wager=100.0, team='Los Angeles Chargers', point=-1.0),\n",
       " TotalsBet(backend_name='DraftKings', odds=-110, wager=100.0, home_team_name='Los Angeles Chargers', away_team_name='Denver Broncos', over=True, point=44.5)]"
      ]
     },
     "execution_count": 10,
     "metadata": {},
     "output_type": "execute_result"
    }
   ],
   "source": [
    "game = Game('Los Angeles Chargers', 'Denver Broncos', [])\n",
    "BestBets(game, 'Los Angeles Chargers', 100).apply(all_sportsbooks()) # pick the best bets for this game from all sportsbooks"
   ]
  },
  {
   "cell_type": "code",
   "execution_count": 11,
   "metadata": {},
   "outputs": [
    {
     "ename": "TypeError",
     "evalue": "Error: odds must be an integer, instead 223.0 (<class 'float'>)",
     "output_type": "error",
     "traceback": [
      "\u001b[1;31m---------------------------------------------------------------------------\u001b[0m",
      "\u001b[1;31mTypeError\u001b[0m                                 Traceback (most recent call last)",
      "Cell \u001b[1;32mIn[11], line 2\u001b[0m\n\u001b[0;32m      1\u001b[0m \u001b[38;5;66;03m#Knicks are bad at home, so lets be bearish\u001b[39;00m\n\u001b[1;32m----> 2\u001b[0m \u001b[43mBestBets\u001b[49m\u001b[43m(\u001b[49m\u001b[43meastern_conference_finals\u001b[49m\u001b[43m,\u001b[49m\u001b[43m \u001b[49m\u001b[38;5;124;43m'\u001b[39;49m\u001b[38;5;124;43mhome\u001b[39;49m\u001b[38;5;124;43m'\u001b[39;49m\u001b[43m,\u001b[49m\u001b[43m \u001b[49m\u001b[38;5;241;43m200\u001b[39;49m\u001b[43m)\u001b[49m\u001b[38;5;241;43m.\u001b[39;49m\u001b[43mapply\u001b[49m\u001b[43m(\u001b[49m\u001b[43m[\u001b[49m\u001b[43mbovada\u001b[49m\u001b[43m,\u001b[49m\u001b[43m \u001b[49m\u001b[43mfanduel\u001b[49m\u001b[43m]\u001b[49m\u001b[43m,\u001b[49m\u001b[43m \u001b[49m\u001b[43mbullish\u001b[49m\u001b[38;5;241;43m=\u001b[39;49m\u001b[38;5;28;43;01mFalse\u001b[39;49;00m\u001b[43m)\u001b[49m\n",
      "File \u001b[1;32mc:\\Users\\lvca7\\Documents\\CS 343S\\SportsBettingDSL\\sportsbetpy\\strategy.py:48\u001b[0m, in \u001b[0;36mBackendStrategy.apply\u001b[1;34m(self, backends, bullish)\u001b[0m\n\u001b[0;32m     47\u001b[0m \u001b[38;5;28;01mdef\u001b[39;00m \u001b[38;5;21mapply\u001b[39m(\u001b[38;5;28mself\u001b[39m, backends: List[Backend]\u001b[38;5;241m=\u001b[39m[], bullish: \u001b[38;5;28mbool\u001b[39m\u001b[38;5;241m=\u001b[39m\u001b[38;5;28;01mTrue\u001b[39;00m):\n\u001b[1;32m---> 48\u001b[0m     \u001b[38;5;28;01mreturn\u001b[39;00m \u001b[38;5;28;43mself\u001b[39;49m\u001b[38;5;241;43m.\u001b[39;49m\u001b[43mfunc\u001b[49m\u001b[43m(\u001b[49m\u001b[43mbackends\u001b[49m\u001b[43m,\u001b[49m\u001b[43m \u001b[49m\u001b[43mbullish\u001b[49m\u001b[43m)\u001b[49m\n",
      "File \u001b[1;32mc:\\Users\\lvca7\\Documents\\CS 343S\\SportsBettingDSL\\sportsbetpy\\strategy.py:113\u001b[0m, in \u001b[0;36mBestBets.__init__.<locals>.func\u001b[1;34m(backends, bullish)\u001b[0m\n\u001b[0;32m    111\u001b[0m \u001b[38;5;28;01melse\u001b[39;00m:\n\u001b[0;32m    112\u001b[0m     \u001b[38;5;28;01mif\u001b[39;00m best_bets[\u001b[38;5;241m2\u001b[39m] \u001b[38;5;129;01mis\u001b[39;00m \u001b[38;5;28;01mNone\u001b[39;00m:\n\u001b[1;32m--> 113\u001b[0m         best_bets[\u001b[38;5;241m2\u001b[39m] \u001b[38;5;241m=\u001b[39m \u001b[43mfixture\u001b[49m\u001b[38;5;241;43m.\u001b[39;49m\u001b[43mbet\u001b[49m\u001b[43m(\u001b[49m\u001b[38;5;124;43m'\u001b[39;49m\u001b[38;5;124;43munder\u001b[39;49m\u001b[38;5;124;43m'\u001b[39;49m\u001b[43m,\u001b[49m\u001b[43m \u001b[49m\u001b[38;5;28;43mself\u001b[39;49m\u001b[38;5;241;43m.\u001b[39;49m\u001b[43mwager\u001b[49m\u001b[43m)\u001b[49m\n\u001b[0;32m    114\u001b[0m     odds \u001b[38;5;241m=\u001b[39m fixture\u001b[38;5;241m.\u001b[39munder_price\n\u001b[0;32m    115\u001b[0m     \u001b[38;5;28;01mif\u001b[39;00m odds \u001b[38;5;241m>\u001b[39m best_bets[\u001b[38;5;241m2\u001b[39m]\u001b[38;5;241m.\u001b[39modds:\n",
      "File \u001b[1;32mc:\\Users\\lvca7\\Documents\\CS 343S\\SportsBettingDSL\\sportsbetpy\\fixture.py:82\u001b[0m, in \u001b[0;36mTotals.bet\u001b[1;34m(self, over_under, wager)\u001b[0m\n\u001b[0;32m     80\u001b[0m     \u001b[38;5;28;01mreturn\u001b[39;00m TotalsBet(\u001b[38;5;28mself\u001b[39m\u001b[38;5;241m.\u001b[39mbackend_name, \u001b[38;5;28mself\u001b[39m\u001b[38;5;241m.\u001b[39mover_price, wager, \u001b[38;5;28mself\u001b[39m\u001b[38;5;241m.\u001b[39mhome_team_name, \u001b[38;5;28mself\u001b[39m\u001b[38;5;241m.\u001b[39maway_team_name, \u001b[38;5;28;01mTrue\u001b[39;00m, \u001b[38;5;28mself\u001b[39m\u001b[38;5;241m.\u001b[39mover_point)\n\u001b[0;32m     81\u001b[0m \u001b[38;5;28;01mcase\u001b[39;00m \u001b[38;5;124m'\u001b[39m\u001b[38;5;124munder\u001b[39m\u001b[38;5;124m'\u001b[39m \u001b[38;5;241m|\u001b[39m \u001b[38;5;124m'\u001b[39m\u001b[38;5;124mUnder\u001b[39m\u001b[38;5;124m'\u001b[39m:\n\u001b[1;32m---> 82\u001b[0m     \u001b[38;5;28;01mreturn\u001b[39;00m \u001b[43mTotalsBet\u001b[49m\u001b[43m(\u001b[49m\u001b[38;5;28;43mself\u001b[39;49m\u001b[38;5;241;43m.\u001b[39;49m\u001b[43mbackend_name\u001b[49m\u001b[43m,\u001b[49m\u001b[43m \u001b[49m\u001b[38;5;28;43mself\u001b[39;49m\u001b[38;5;241;43m.\u001b[39;49m\u001b[43munder_point\u001b[49m\u001b[43m,\u001b[49m\u001b[43m \u001b[49m\u001b[43mwager\u001b[49m\u001b[43m,\u001b[49m\u001b[43m \u001b[49m\u001b[38;5;28;43mself\u001b[39;49m\u001b[38;5;241;43m.\u001b[39;49m\u001b[43mhome_team_name\u001b[49m\u001b[43m,\u001b[49m\u001b[43m \u001b[49m\u001b[38;5;28;43mself\u001b[39;49m\u001b[38;5;241;43m.\u001b[39;49m\u001b[43maway_team_name\u001b[49m\u001b[43m,\u001b[49m\u001b[43m \u001b[49m\u001b[38;5;28;43;01mFalse\u001b[39;49;00m\u001b[43m,\u001b[49m\u001b[43m \u001b[49m\u001b[38;5;28;43mself\u001b[39;49m\u001b[38;5;241;43m.\u001b[39;49m\u001b[43munder_point\u001b[49m\u001b[43m)\u001b[49m\n",
      "File \u001b[1;32m<string>:10\u001b[0m, in \u001b[0;36m__init__\u001b[1;34m(self, backend_name, odds, wager, home_team_name, away_team_name, over, point)\u001b[0m\n",
      "File \u001b[1;32mc:\\Users\\lvca7\\Documents\\CS 343S\\SportsBettingDSL\\sportsbetpy\\bet.py:21\u001b[0m, in \u001b[0;36mRawBet.__post_init__\u001b[1;34m(self)\u001b[0m\n\u001b[0;32m     19\u001b[0m     \u001b[38;5;28mself\u001b[39m\u001b[38;5;241m.\u001b[39mwager \u001b[38;5;241m=\u001b[39m \u001b[38;5;28mfloat\u001b[39m(\u001b[38;5;28mself\u001b[39m\u001b[38;5;241m.\u001b[39mwager)\n\u001b[0;32m     20\u001b[0m \u001b[38;5;28;01mif\u001b[39;00m \u001b[38;5;129;01mnot\u001b[39;00m \u001b[38;5;28misinstance\u001b[39m(\u001b[38;5;28mself\u001b[39m\u001b[38;5;241m.\u001b[39modds, \u001b[38;5;28mint\u001b[39m):\n\u001b[1;32m---> 21\u001b[0m     \u001b[38;5;28;01mraise\u001b[39;00m \u001b[38;5;167;01mTypeError\u001b[39;00m(\u001b[38;5;124mf\u001b[39m\u001b[38;5;124m\"\u001b[39m\u001b[38;5;124mError: odds must be an integer, instead \u001b[39m\u001b[38;5;132;01m{\u001b[39;00m\u001b[38;5;28mself\u001b[39m\u001b[38;5;241m.\u001b[39modds\u001b[38;5;132;01m}\u001b[39;00m\u001b[38;5;124m (\u001b[39m\u001b[38;5;132;01m{\u001b[39;00m\u001b[38;5;28mtype\u001b[39m(\u001b[38;5;28mself\u001b[39m\u001b[38;5;241m.\u001b[39modds)\u001b[38;5;132;01m}\u001b[39;00m\u001b[38;5;124m)\u001b[39m\u001b[38;5;124m\"\u001b[39m)\n\u001b[0;32m     22\u001b[0m \u001b[38;5;28;01mif\u001b[39;00m \u001b[38;5;28mself\u001b[39m\u001b[38;5;241m.\u001b[39modds \u001b[38;5;241m==\u001b[39m \u001b[38;5;241m0\u001b[39m:\n\u001b[0;32m     23\u001b[0m     \u001b[38;5;28;01mraise\u001b[39;00m \u001b[38;5;167;01mValueError\u001b[39;00m(\u001b[38;5;124m\"\u001b[39m\u001b[38;5;124mError: invalid odds\u001b[39m\u001b[38;5;124m\"\u001b[39m)\n",
      "\u001b[1;31mTypeError\u001b[0m: Error: odds must be an integer, instead 223.0 (<class 'float'>)"
     ]
    }
   ],
   "source": [
    "#Knicks are bad at home, so lets be bearish\n",
    "BestBets(eastern_conference_finals, 'home', 200).apply([bovada, fanduel], bullish=False)"
   ]
  },
  {
   "cell_type": "code",
   "execution_count": null,
   "metadata": {},
   "outputs": [],
   "source": [
    "#todo load with API KEY, load part with TheOdds method + API KEY (this might be nice for events)\n",
    "#get events"
   ]
  }
 ],
 "metadata": {
  "kernelspec": {
   "display_name": "Python 3",
   "language": "python",
   "name": "python3"
  },
  "language_info": {
   "codemirror_mode": {
    "name": "ipython",
    "version": 3
   },
   "file_extension": ".py",
   "mimetype": "text/x-python",
   "name": "python",
   "nbconvert_exporter": "python",
   "pygments_lexer": "ipython3",
   "version": "3.12.4"
  }
 },
 "nbformat": 4,
 "nbformat_minor": 2
}
